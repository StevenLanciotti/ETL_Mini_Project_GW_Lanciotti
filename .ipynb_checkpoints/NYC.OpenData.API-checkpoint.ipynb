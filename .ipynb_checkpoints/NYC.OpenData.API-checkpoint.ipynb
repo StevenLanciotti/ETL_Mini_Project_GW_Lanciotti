{
 "cells": [
  {
   "cell_type": "code",
   "execution_count": null,
   "metadata": {},
   "outputs": [],
   "source": [
    "# make sure to install these packages before running:\n",
    "# pip install pandas\n",
    "# pip install sodapy\n",
    "from sodapy import Socrata\n",
    "import pandas as pd\n",
    "import numpy as np\n",
    "import requests\n",
    "import json\n",
    "import time\n",
    "from config import api_key"
   ]
  },
  {
   "cell_type": "markdown",
   "metadata": {},
   "source": [
    "### API Pull Type 1"
   ]
  },
  {
   "cell_type": "code",
   "execution_count": null,
   "metadata": {},
   "outputs": [],
   "source": [
    "# Enter the information from those sections here\n",
    "# socrata_domain = 'data.cityofnewyork.us'\n",
    "# socrata_dataset_identifier = 'erm2-nwe9'\n",
    "# socrata_token=\"5EDWHSfpo1f6QGvb6ddbiML17\"\n"
   ]
  },
  {
   "cell_type": "code",
   "execution_count": null,
   "metadata": {},
   "outputs": [],
   "source": [
    "#API Pull Type 1: Using Socrata\n",
    "# client = Socrata(socrata_domain, socrata_token)\n",
    "# print(\"Domain: {domain:}\\nSession: {session:}\\nURI Prefix: {uri_prefix:}\".format(**client.__dict__))\n",
    "# client.timeout=50\n",
    "# results = client.get(socrata_dataset_identifier)\n",
    "# df = pd.DataFrame.from_dict(results)\n",
    "# df.head()"
   ]
  },
  {
   "cell_type": "code",
   "execution_count": null,
   "metadata": {},
   "outputs": [],
   "source": [
    "base_url = \"https://data.cityofnewyork.us/resource/erm2-nwe9.json?\"\n",
    "app_token = \"$$app_token=\"\n",
    "where = \"$where=created_date >= '2019-01-01T00:00:00'\"\n",
    "order = \"$order=created_date DESC\"\n",
    "limit = \"$limit=100\"\n",
    "query_url = f\"{base_url}{app_token}{api_key}&{where}&{order}&{limit}\"\n",
    "response = requests.get(query_url).json()"
   ]
  },
  {
   "cell_type": "markdown",
   "metadata": {},
   "source": [
    "### API Pull Type 2"
   ]
  },
  {
   "cell_type": "code",
   "execution_count": null,
   "metadata": {},
   "outputs": [],
   "source": [
    "#API Type 2: Using .Get on a base URL with SoQL query code \n",
    "base_url_1 = \"https://data.cityofnewyork.us/resource/erm2-nwe9.json?\"\n",
    "app_token_1 = \"$$app_token=\"\n",
    "where_1 = \"$where=created_date >= '2019-01-01T00:00:00'\"\n",
    "order_1 = \"$order=created_date DESC\"\n",
    "limit_1 = \"$limit=100\"\n",
    "\n",
    "query_url_1 = f\"{base_url_1}{app_token_1}{api_key}&{where_1}&{order_1}&{limit_1}\"\n",
    "query_url_1"
   ]
  },
  {
   "cell_type": "code",
   "execution_count": null,
   "metadata": {},
   "outputs": [],
   "source": [
    "#Run API and retrieve data - limited to first 5K rows\n",
    "response_1 = requests.get(query_url_1).json()\n"
   ]
  },
  {
   "cell_type": "code",
   "execution_count": null,
   "metadata": {
    "scrolled": true
   },
   "outputs": [],
   "source": [
    "data_df = pd.DataFrame.from_dict(response_1)\n",
    "data_df"
   ]
  },
  {
   "cell_type": "markdown",
   "metadata": {},
   "source": [
    "## API Pull Type 2 - \"For Loop\" to pull more data"
   ]
  },
  {
   "cell_type": "code",
   "execution_count": null,
   "metadata": {},
   "outputs": [],
   "source": [
    "#API Type 2: Using .Get on a base URL with SoQL query code \n",
    "base_url_2 = \"https://data.cityofnewyork.us/resource/erm2-nwe9.json?\"\n",
    "app_token_2 = \"$$app_token=\"\n",
    "where_2 = \"$where=created_date >= '2019-01-01T00:00:00'\"\n",
    "order_2 = \"$order=created_date DESC\"\n",
    "limit_2 = \"$limit=100\"\n",
    "offset_2 = \"$offset=\"\n",
    "page = [100,200,300]\n",
    "\n",
    "\n"
   ]
  },
  {
   "cell_type": "code",
   "execution_count": null,
   "metadata": {},
   "outputs": [],
   "source": [
    "for p in page:\n",
    "    try:\n",
    "        query_url_2 = f\"{base_url_2}{app_token_2}{api_key}&{where_2}&{order_2}&{limit_2}&{offset_2}{p}\"\n",
    "        response_2 = requests.get(query_url_2).json()\n",
    "        df_add = pd.DataFrame.from_dict(response_2)\n",
    "        data_df = data_df.append(df_add)\n",
    "        print(f\"Data pull started at record #{p} and pulled {len(response_2)} rows | Total rows are now {len(data_df)}\")\n",
    "        time.sleep(1)\n",
    "        \n",
    "    except:\n",
    "        print(f\"Data pull did not work...\")\n",
    "        time.sleep(1)\n",
    "        \n",
    "print(f\"--------------------------\")\n",
    "print(f\"Data Retrieval Complete\")\n",
    "print(f\"--------------------------\")\n",
    "\n",
    "        \n",
    "\n",
    "        "
   ]
  },
  {
   "cell_type": "code",
   "execution_count": null,
   "metadata": {
    "scrolled": false
   },
   "outputs": [],
   "source": [
    "print(f\"{len(data_df)} rows of data\")\n",
    "data_df.count()"
   ]
  },
  {
   "cell_type": "markdown",
   "metadata": {},
   "source": [
    "\n",
    "## Clean Dataframe"
   ]
  },
  {
   "cell_type": "code",
   "execution_count": null,
   "metadata": {
    "scrolled": true
   },
   "outputs": [],
   "source": [
    "NYC_311_data_df = data_df[['agency', 'agency_name', 'borough', 'community_board','complaint_type','created_date','descriptor','latitude','longitude','status','unique_key']].copy()\n",
    "NYC_311_data_df.head()"
   ]
  },
  {
   "cell_type": "code",
   "execution_count": null,
   "metadata": {},
   "outputs": [],
   "source": [
    "NYC_311_data_df['borough'] = NYC_311_data_df['borough'].str.capitalize()"
   ]
  },
  {
   "cell_type": "code",
   "execution_count": null,
   "metadata": {},
   "outputs": [],
   "source": [
    "NYC_311_data_df.head()"
   ]
  },
  {
   "cell_type": "markdown",
   "metadata": {},
   "source": [
    "## Connect to Postgres Database and insert data into tables"
   ]
  },
  {
   "cell_type": "code",
   "execution_count": null,
   "metadata": {},
   "outputs": [],
   "source": [
    "rds_connection_string = \"postgres:*Password*@localhost:5432/ETL Project\"\n",
    "engine = create_engine(f'postgresql://{rds_connection_string}')"
   ]
  },
  {
   "cell_type": "code",
   "execution_count": 1,
   "metadata": {},
   "outputs": [
    {
     "ename": "NameError",
     "evalue": "name 'engine' is not defined",
     "output_type": "error",
     "traceback": [
      "\u001b[1;31m---------------------------------------------------------------------------\u001b[0m",
      "\u001b[1;31mNameError\u001b[0m                                 Traceback (most recent call last)",
      "\u001b[1;32m<ipython-input-1-d72bc75a6b62>\u001b[0m in \u001b[0;36m<module>\u001b[1;34m\u001b[0m\n\u001b[1;32m----> 1\u001b[1;33m \u001b[0mengine\u001b[0m\u001b[1;33m.\u001b[0m\u001b[0mtable_names\u001b[0m\u001b[1;33m(\u001b[0m\u001b[1;33m)\u001b[0m\u001b[1;33m\u001b[0m\u001b[1;33m\u001b[0m\u001b[0m\n\u001b[0m",
      "\u001b[1;31mNameError\u001b[0m: name 'engine' is not defined"
     ]
    }
   ],
   "source": [
    "engine.table_names()"
   ]
  },
  {
   "cell_type": "code",
   "execution_count": null,
   "metadata": {},
   "outputs": [],
   "source": [
    "NYC_311_data_df.to_sql(name='nyc_311', con=engine, if_exists='append', index=False)"
   ]
  },
  {
   "cell_type": "code",
   "execution_count": null,
   "metadata": {},
   "outputs": [],
   "source": [
    "pd.read_sql_query('select * from nyc_311', con=engine).head()"
   ]
  },
  {
   "cell_type": "code",
   "execution_count": null,
   "metadata": {},
   "outputs": [],
   "source": []
  },
  {
   "cell_type": "code",
   "execution_count": null,
   "metadata": {},
   "outputs": [],
   "source": []
  },
  {
   "cell_type": "code",
   "execution_count": null,
   "metadata": {},
   "outputs": [],
   "source": []
  },
  {
   "cell_type": "code",
   "execution_count": null,
   "metadata": {},
   "outputs": [],
   "source": []
  },
  {
   "cell_type": "code",
   "execution_count": null,
   "metadata": {},
   "outputs": [],
   "source": []
  },
  {
   "cell_type": "code",
   "execution_count": null,
   "metadata": {},
   "outputs": [],
   "source": []
  },
  {
   "cell_type": "code",
   "execution_count": null,
   "metadata": {},
   "outputs": [],
   "source": []
  },
  {
   "cell_type": "code",
   "execution_count": null,
   "metadata": {},
   "outputs": [],
   "source": []
  },
  {
   "cell_type": "code",
   "execution_count": null,
   "metadata": {},
   "outputs": [],
   "source": []
  },
  {
   "cell_type": "code",
   "execution_count": null,
   "metadata": {},
   "outputs": [],
   "source": []
  }
 ],
 "metadata": {
  "kernelspec": {
   "display_name": "Python 3",
   "language": "python",
   "name": "python3"
  },
  "language_info": {
   "codemirror_mode": {
    "name": "ipython",
    "version": 3
   },
   "file_extension": ".py",
   "mimetype": "text/x-python",
   "name": "python",
   "nbconvert_exporter": "python",
   "pygments_lexer": "ipython3",
   "version": "3.7.3"
  }
 },
 "nbformat": 4,
 "nbformat_minor": 2
}
